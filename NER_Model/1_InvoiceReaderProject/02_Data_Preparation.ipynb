{
 "cells": [
  {
   "cell_type": "code",
   "execution_count": 26,
   "id": "b8fc47c9",
   "metadata": {},
   "outputs": [],
   "source": [
    "import numpy as np\n",
    "import pandas as pd\n",
    "import cv2\n",
    "import pytesseract\n",
    "\n",
    "import os\n",
    "from glob import glob\n",
    "from tqdm import tqdm\n",
    "\n",
    "import warnings\n",
    "warnings.filterwarnings('ignore')"
   ]
  },
  {
   "cell_type": "code",
   "execution_count": 28,
   "id": "d0abac9a",
   "metadata": {},
   "outputs": [],
   "source": [
    "# create the path to the directory where the images are\n",
    "# see step 15 of my instructions_project.docx\n",
    "imgPaths = glob('./allinvoices_img_2/*.jpg')"
   ]
  },
  {
   "cell_type": "code",
   "execution_count": 29,
   "id": "ca9fb45c",
   "metadata": {},
   "outputs": [
    {
     "data": {
      "text/plain": [
       "['./allinvoices_img_2\\\\074.jpg',\n",
       " './allinvoices_img_2\\\\075.jpg',\n",
       " './allinvoices_img_2\\\\076.jpg',\n",
       " './allinvoices_img_2\\\\077.jpg',\n",
       " './allinvoices_img_2\\\\078.jpg',\n",
       " './allinvoices_img_2\\\\079.jpg',\n",
       " './allinvoices_img_2\\\\080.jpg',\n",
       " './allinvoices_img_2\\\\081.jpg',\n",
       " './allinvoices_img_2\\\\082.jpg',\n",
       " './allinvoices_img_2\\\\083.jpg',\n",
       " './allinvoices_img_2\\\\084.jpg',\n",
       " './allinvoices_img_2\\\\085.jpg',\n",
       " './allinvoices_img_2\\\\086.jpg',\n",
       " './allinvoices_img_2\\\\087.jpg',\n",
       " './allinvoices_img_2\\\\088.jpg',\n",
       " './allinvoices_img_2\\\\089.jpg',\n",
       " './allinvoices_img_2\\\\090.jpg',\n",
       " './allinvoices_img_2\\\\091.jpg']"
      ]
     },
     "execution_count": 29,
     "metadata": {},
     "output_type": "execute_result"
    }
   ],
   "source": [
    "imgPaths"
   ]
  },
  {
   "cell_type": "code",
   "execution_count": 30,
   "id": "444fcb8a",
   "metadata": {},
   "outputs": [],
   "source": [
    "# imgPath = imgPaths[24]"
   ]
  },
  {
   "cell_type": "code",
   "execution_count": 31,
   "id": "c2d1c2c9",
   "metadata": {},
   "outputs": [],
   "source": [
    "# print(imgPath)"
   ]
  },
  {
   "cell_type": "code",
   "execution_count": 32,
   "id": "959045be",
   "metadata": {},
   "outputs": [],
   "source": [
    "# _, filename = os.path.split(imgPath)\n",
    "# print(filename)"
   ]
  },
  {
   "cell_type": "code",
   "execution_count": 33,
   "id": "4d7b4eff",
   "metadata": {
    "scrolled": true
   },
   "outputs": [
    {
     "name": "stderr",
     "output_type": "stream",
     "text": [
      "Invoices: 100%|████████████████████████████████████████████████████████████████████████| 18/18 [03:47<00:00, 12.63s/it]\n"
     ]
    }
   ],
   "source": [
    "allInvoices = pd.DataFrame(columns=['id', 'text'])\n",
    "\n",
    "for imgPath in tqdm(imgPaths, 'Invoices'):\n",
    "    \n",
    "    # imgPath = imgPaths[0]\n",
    "    _, filename = os.path.split(imgPath)\n",
    "    # print(filename)\n",
    "    # extract data and the text\n",
    "    image = cv2.imread(imgPath)\n",
    "    data = pytesseract.image_to_data(image, lang='deu')\n",
    "    #data.split('\\n')\n",
    "    dataList = list(map(lambda x: x.split('\\t'), data.split('\\n')))\n",
    "    df = pd.DataFrame(dataList[1:], columns=dataList[0])\n",
    "    df.dropna(inplace=True)\n",
    "    df['conf'] = df['conf'].astype(float).astype(int)\n",
    "\n",
    "    usefulData = df.query('conf >= 20')\n",
    "\n",
    "    # Dataframe\n",
    "    invoice = pd.DataFrame()\n",
    "    invoice['text'] = usefulData['text']\n",
    "    invoice['id'] = filename\n",
    "    \n",
    "    # concatenation\n",
    "    allInvoices = pd.concat((allInvoices, invoice))\n",
    "    "
   ]
  },
  {
   "cell_type": "code",
   "execution_count": 34,
   "id": "79c0381f",
   "metadata": {},
   "outputs": [],
   "source": [
    "# allInvoices.to_csv('C:/Users/Admin/Desktop/invoices_final_Jpeg_v1.csv', index=False)"
   ]
  },
  {
   "cell_type": "code",
   "execution_count": 35,
   "id": "1527e483",
   "metadata": {},
   "outputs": [],
   "source": [
    "allInvoices['tag'] = ['O' for x in range(len(allInvoices['text']))]"
   ]
  },
  {
   "cell_type": "code",
   "execution_count": 36,
   "id": "5a4cce7f",
   "metadata": {},
   "outputs": [
    {
     "data": {
      "text/html": [
       "<div>\n",
       "<style scoped>\n",
       "    .dataframe tbody tr th:only-of-type {\n",
       "        vertical-align: middle;\n",
       "    }\n",
       "\n",
       "    .dataframe tbody tr th {\n",
       "        vertical-align: top;\n",
       "    }\n",
       "\n",
       "    .dataframe thead th {\n",
       "        text-align: right;\n",
       "    }\n",
       "</style>\n",
       "<table border=\"1\" class=\"dataframe\">\n",
       "  <thead>\n",
       "    <tr style=\"text-align: right;\">\n",
       "      <th></th>\n",
       "      <th>id</th>\n",
       "      <th>text</th>\n",
       "      <th>tag</th>\n",
       "    </tr>\n",
       "  </thead>\n",
       "  <tbody>\n",
       "    <tr>\n",
       "      <th>4</th>\n",
       "      <td>074.jpg</td>\n",
       "      <td>Rechnung</td>\n",
       "      <td>O</td>\n",
       "    </tr>\n",
       "    <tr>\n",
       "      <th>8</th>\n",
       "      <td>074.jpg</td>\n",
       "      <td>Apple</td>\n",
       "      <td>O</td>\n",
       "    </tr>\n",
       "    <tr>\n",
       "      <th>9</th>\n",
       "      <td>074.jpg</td>\n",
       "      <td>Distribution</td>\n",
       "      <td>O</td>\n",
       "    </tr>\n",
       "    <tr>\n",
       "      <th>10</th>\n",
       "      <td>074.jpg</td>\n",
       "      <td>International</td>\n",
       "      <td>O</td>\n",
       "    </tr>\n",
       "    <tr>\n",
       "      <th>11</th>\n",
       "      <td>074.jpg</td>\n",
       "      <td>Ltd.</td>\n",
       "      <td>O</td>\n",
       "    </tr>\n",
       "    <tr>\n",
       "      <th>...</th>\n",
       "      <td>...</td>\n",
       "      <td>...</td>\n",
       "      <td>...</td>\n",
       "    </tr>\n",
       "    <tr>\n",
       "      <th>257</th>\n",
       "      <td>091.jpg</td>\n",
       "      <td>814584193</td>\n",
       "      <td>O</td>\n",
       "    </tr>\n",
       "    <tr>\n",
       "      <th>259</th>\n",
       "      <td>091.jpg</td>\n",
       "      <td>Seite</td>\n",
       "      <td>O</td>\n",
       "    </tr>\n",
       "    <tr>\n",
       "      <th>260</th>\n",
       "      <td>091.jpg</td>\n",
       "      <td>1</td>\n",
       "      <td>O</td>\n",
       "    </tr>\n",
       "    <tr>\n",
       "      <th>261</th>\n",
       "      <td>091.jpg</td>\n",
       "      <td>von</td>\n",
       "      <td>O</td>\n",
       "    </tr>\n",
       "    <tr>\n",
       "      <th>262</th>\n",
       "      <td>091.jpg</td>\n",
       "      <td>1</td>\n",
       "      <td>O</td>\n",
       "    </tr>\n",
       "  </tbody>\n",
       "</table>\n",
       "<p>2987 rows × 3 columns</p>\n",
       "</div>"
      ],
      "text/plain": [
       "          id           text tag\n",
       "4    074.jpg       Rechnung   O\n",
       "8    074.jpg          Apple   O\n",
       "9    074.jpg   Distribution   O\n",
       "10   074.jpg  International   O\n",
       "11   074.jpg           Ltd.   O\n",
       "..       ...            ...  ..\n",
       "257  091.jpg      814584193   O\n",
       "259  091.jpg          Seite   O\n",
       "260  091.jpg              1   O\n",
       "261  091.jpg            von   O\n",
       "262  091.jpg              1   O\n",
       "\n",
       "[2987 rows x 3 columns]"
      ]
     },
     "execution_count": 36,
     "metadata": {},
     "output_type": "execute_result"
    }
   ],
   "source": [
    "allInvoices"
   ]
  },
  {
   "cell_type": "code",
   "execution_count": 37,
   "id": "f7b49d4d",
   "metadata": {},
   "outputs": [],
   "source": [
    "# allInvoices.to_csv('C:/Users/Admin/Desktop/invoices_final_Jpeg_v2.csv', index=False)"
   ]
  },
  {
   "cell_type": "code",
   "execution_count": 38,
   "id": "01e65608",
   "metadata": {},
   "outputs": [],
   "source": [
    "# allInvoices.to_csv('C:/Users/Admin/Desktop/invoices_final_Jpeg_v3.csv', index=False, sep='\\t')"
   ]
  }
 ],
 "metadata": {
  "kernelspec": {
   "display_name": "Python 3 (ipykernel)",
   "language": "python",
   "name": "python3"
  },
  "language_info": {
   "codemirror_mode": {
    "name": "ipython",
    "version": 3
   },
   "file_extension": ".py",
   "mimetype": "text/x-python",
   "name": "python",
   "nbconvert_exporter": "python",
   "pygments_lexer": "ipython3",
   "version": "3.10.0"
  }
 },
 "nbformat": 4,
 "nbformat_minor": 5
}
