{
 "cells": [
  {
   "cell_type": "code",
   "execution_count": 1,
   "id": "9a8c5616",
   "metadata": {},
   "outputs": [],
   "source": [
    "import numpy as np\n",
    "import pandas as pd\n",
    "import cv2\n",
    "import pytesseract\n",
    "from glob import glob\n",
    "import spacy\n",
    "import re\n",
    "import string"
   ]
  },
  {
   "cell_type": "code",
   "execution_count": 2,
   "id": "0ebb5332",
   "metadata": {},
   "outputs": [],
   "source": [
    "def cleanText(txt):\n",
    "    whitespace = string.whitespace\n",
    "    punctuation = '!#$%&\\'*+:;<=>?[\\\\]^`{|}~'\n",
    "    tableWhitespace = str.maketrans('','',whitespace)\n",
    "    tablePunctuation = str.maketrans('','',punctuation)\n",
    "    text = str(txt)\n",
    "    removewhitespace = text.translate(tableWhitespace)\n",
    "    removepunctuation = removewhitespace.translate(tablePunctuation)\n",
    "    \n",
    "    return str(removepunctuation)"
   ]
  },
  {
   "cell_type": "code",
   "execution_count": 3,
   "id": "0b0bfc4e",
   "metadata": {},
   "outputs": [],
   "source": [
    "### load NER model best\n",
    "model_ner = spacy.load('./output/model-best/')"
   ]
  },
  {
   "cell_type": "code",
   "execution_count": 4,
   "id": "e7c71a14",
   "metadata": {},
   "outputs": [],
   "source": [
    "# image = cv2.imread('./allinvoices_img/003.jpg')"
   ]
  },
  {
   "cell_type": "code",
   "execution_count": 5,
   "id": "43c972d2",
   "metadata": {},
   "outputs": [
    {
     "name": "stdout",
     "output_type": "stream",
     "text": [
      "kaspersky NSAwar RECHNUNG Paris, 2021-10-16 Nexway SAS CS 70002 30 020 Nimes Cedex 1, FRANCE Fax 33 4 66 38 03 28 Rechnungsadresse RECHNUNGSNUMMER LEON BABUCKE FR-21-817012571 RECHNUNGSDATUM Eichbuschallee 1 2021-10-16 72138 Kirchentellinsfurt, Deutschland Bestell-Nummer email Leon.Babucke@gmx.de 6UR9I9WFYFLI Zahlungsweise VISA die Produkte von Kaspersky DACH Nexway werden von Nexway vertrieben. Bei einer Zahlung mit Kreditkarte wird auf Ihrem Kontoauszug Kaspersky DACH Nexway ausgewiesen. Ihre erworbenen Produkte Referenz OW3638VCHLZF Produkt League of Legends Account EUW 40-50k BE Lol Smurf Lvl 30 10,92 € 19 10,92 € UNVERIFIED Unranked 10,92 € MwSt. (19) 2,07 € Hauptsitz Nexway SAS, 1 avenue du General de Gaulle Tour PB5 92074 Paris La Defense Cedex France TVA FR33440953859 - CH CHE-190.925.697 - AU 300 015 521 065 SIRET 44095385900053 APE 6209Z SIREN 440953859 R.C.S NANTERRE SAS au\n"
     ]
    }
   ],
   "source": [
    "# load Image\n",
    "image = cv2.imread('./allinvoices_img_2/077.jpg')\n",
    "\n",
    "# cv2.imshow('businesscard', image)\n",
    "# cv2.waitKey(0)\n",
    "# cv2.destroyAllWindows()\n",
    "\n",
    "# extract data using pytesseract\n",
    "\n",
    "tessData = pytesseract.image_to_data(image, lang='deu')\n",
    "# convert into Dataframe\n",
    "tessList = list(map(lambda x: x.split('\\t'), tessData.split('\\n')))\n",
    "df = pd.DataFrame(tessList[1:], columns=tessList[0])\n",
    "df.dropna(inplace=True)\n",
    "df['conf'] =df['conf'].astype(float).astype(int)\n",
    "df['text'] =df['text'].apply(cleanText)\n",
    "#print(df)\n",
    "\n",
    "# convert data into content\n",
    "df_clean = df.query(\"text != '' \")\n",
    "content = \" \".join([w for w in df_clean['text']])\n",
    "print(content)\n",
    "\n",
    "# get prediction from NER model\n",
    "doc = model_ner(content)\n"
   ]
  },
  {
   "cell_type": "code",
   "execution_count": 6,
   "id": "9c9deb33",
   "metadata": {},
   "outputs": [],
   "source": [
    "from spacy import displacy"
   ]
  },
  {
   "cell_type": "code",
   "execution_count": 7,
   "id": "9a488e1b",
   "metadata": {},
   "outputs": [
    {
     "data": {
      "text/html": [
       "<span class=\"tex2jax_ignore\"><div class=\"entities\" style=\"line-height: 2.5; direction: ltr\">\n",
       "<mark class=\"entity\" style=\"background: #ddd; padding: 0.45em 0.6em; margin: 0 0.25em; line-height: 1; border-radius: 0.35em;\">\n",
       "    kaspersky\n",
       "    <span style=\"font-size: 0.8em; font-weight: bold; line-height: 1; border-radius: 0.35em; vertical-align: middle; margin-left: 0.5rem\">B-ORG</span>\n",
       "</mark>\n",
       " NSAwar RECHNUNG Paris, 2021-10-16 Nexway SAS CS 70002 30 020 Nimes Cedex 1, FRANCE Fax 33 4 66 38 03 28 Rechnungsadresse RECHNUNGSNUMMER \n",
       "<mark class=\"entity\" style=\"background: #ddd; padding: 0.45em 0.6em; margin: 0 0.25em; line-height: 1; border-radius: 0.35em;\">\n",
       "    LEON\n",
       "    <span style=\"font-size: 0.8em; font-weight: bold; line-height: 1; border-radius: 0.35em; vertical-align: middle; margin-left: 0.5rem\">B-NAME</span>\n",
       "</mark>\n",
       " \n",
       "<mark class=\"entity\" style=\"background: #ddd; padding: 0.45em 0.6em; margin: 0 0.25em; line-height: 1; border-radius: 0.35em;\">\n",
       "    BABUCKE\n",
       "    <span style=\"font-size: 0.8em; font-weight: bold; line-height: 1; border-radius: 0.35em; vertical-align: middle; margin-left: 0.5rem\">I-NAME</span>\n",
       "</mark>\n",
       " \n",
       "<mark class=\"entity\" style=\"background: #ddd; padding: 0.45em 0.6em; margin: 0 0.25em; line-height: 1; border-radius: 0.35em;\">\n",
       "    FR-21-817012571\n",
       "    <span style=\"font-size: 0.8em; font-weight: bold; line-height: 1; border-radius: 0.35em; vertical-align: middle; margin-left: 0.5rem\">B-RNUM</span>\n",
       "</mark>\n",
       " RECHNUNGSDATUM \n",
       "<mark class=\"entity\" style=\"background: #ddd; padding: 0.45em 0.6em; margin: 0 0.25em; line-height: 1; border-radius: 0.35em;\">\n",
       "    Eichbuschallee\n",
       "    <span style=\"font-size: 0.8em; font-weight: bold; line-height: 1; border-radius: 0.35em; vertical-align: middle; margin-left: 0.5rem\">B-ADRESSE</span>\n",
       "</mark>\n",
       " \n",
       "<mark class=\"entity\" style=\"background: #ddd; padding: 0.45em 0.6em; margin: 0 0.25em; line-height: 1; border-radius: 0.35em;\">\n",
       "    1\n",
       "    <span style=\"font-size: 0.8em; font-weight: bold; line-height: 1; border-radius: 0.35em; vertical-align: middle; margin-left: 0.5rem\">I-ADRESSE</span>\n",
       "</mark>\n",
       " 2021-10-16 72138 \n",
       "<mark class=\"entity\" style=\"background: #ddd; padding: 0.45em 0.6em; margin: 0 0.25em; line-height: 1; border-radius: 0.35em;\">\n",
       "    Kirchentellinsfurt,\n",
       "    <span style=\"font-size: 0.8em; font-weight: bold; line-height: 1; border-radius: 0.35em; vertical-align: middle; margin-left: 0.5rem\">I-ADRESSE</span>\n",
       "</mark>\n",
       " \n",
       "<mark class=\"entity\" style=\"background: #ddd; padding: 0.45em 0.6em; margin: 0 0.25em; line-height: 1; border-radius: 0.35em;\">\n",
       "    Deutschland\n",
       "    <span style=\"font-size: 0.8em; font-weight: bold; line-height: 1; border-radius: 0.35em; vertical-align: middle; margin-left: 0.5rem\">I-ADRESSE</span>\n",
       "</mark>\n",
       " Bestell-Nummer email Leon.Babucke@gmx.de 6UR9I9WFYFLI Zahlungsweise VISA die Produkte von Kaspersky DACH Nexway werden von Nexway vertrieben. Bei einer Zahlung mit Kreditkarte wird auf Ihrem Kontoauszug Kaspersky DACH Nexway ausgewiesen. Ihre erworbenen Produkte Referenz OW3638VCHLZF Produkt League of Legends Account EUW 40-50k BE Lol Smurf Lvl 30 10,92 € 19 10,92 € UNVERIFIED Unranked 10,92 € MwSt. (19) 2,07 € Hauptsitz Nexway SAS, 1 avenue du General de Gaulle Tour PB5 92074 Paris La Defense Cedex France TVA FR33440953859 - CH CHE-190.925.697 - AU 300 015 521 065 SIRET 44095385900053 APE 6209Z SIREN 440953859 R.C.S NANTERRE SAS au</div></span>"
      ],
      "text/plain": [
       "<IPython.core.display.HTML object>"
      ]
     },
     "metadata": {},
     "output_type": "display_data"
    }
   ],
   "source": [
    "displacy.render(doc,style='ent', jupyter=True)"
   ]
  },
  {
   "cell_type": "markdown",
   "id": "6d91140d",
   "metadata": {},
   "source": [
    "# Tagging"
   ]
  },
  {
   "cell_type": "code",
   "execution_count": 8,
   "id": "d86e124b",
   "metadata": {},
   "outputs": [
    {
     "data": {
      "text/plain": [
       "dict_keys(['text', 'ents', 'tokens'])"
      ]
     },
     "execution_count": 8,
     "metadata": {},
     "output_type": "execute_result"
    }
   ],
   "source": [
    "docjson = doc.to_json()\n",
    "docjson.keys()\n",
    "# docjson"
   ]
  },
  {
   "cell_type": "code",
   "execution_count": 9,
   "id": "986fd6e7",
   "metadata": {},
   "outputs": [
    {
     "data": {
      "text/plain": [
       "'amazon.de Rechnung Zahlungsreferenznummer 3NiPoAZm4SUm9qBoGKDi Verkauft von Amazon EU S.är.l., Niederlassung Deutschland USt-IDNr. DE8314584193 Rechnungsdatum /Lieferdatum 05 May 2019 AAMU ABEN Rechnungsnummer DE3MQ236AEUI Radickestraße 25 Zahlbetrag 359€ Jettingen, 71131 Germany Um unseren Kundenservice zu kontaktieren, besuchen Sie www.amazon.de/contact-us Rechnungsadresse Lieferadresse Verkauft von AAMU ABEN AAMU ABEN Amazon EU 5S.ä r.l., Niederlassung Deutschland Radickestraße 25 Radickestraße 25 Marcel-Breuer-Str. 12 Jettingen, 71131 Jettingen, 71131 80807 München Germany Germany Deutschland USt-IDNr. DE8145384193 Bestellinformationen Bestelldatum 02 May 2019 Bestellnummer 123-1233703-1233703 Rechnungsdetails Beschreibung Menge Stückpreis USt. Stückpreis Zwischensumme (ohne USt.) (inkl. USt.) (inkl. USt.) Rost Kerze Edelrost 1 3,02 € 19 3,59€ 3,59€ ASIN if492jf236 Versandkosten 0,00 € 0,00 € 0,00 € Gesamtpreis 3,59€ USt. Zwischensumme USt. (ohne USt.) 19 3,02 € 0,57€ USt. Gesamt 3,02 € 0,57€ WEEE-Reg.-Nr. DE 89633988, Batterie-Reg.-Nr. 21003868 LU-BIO-04 Amazon EU S.ä r.l. - 38 avenue John F. Kennedy, L-1855 Luxembourg Sitz der Gesellschaft L-1855 Luxemburg eingetragen im Luxemburgischen Handelsregister unter R.C.S. B 101818 - Stammkapital 37.500 EUR Amazon EU S.ä r.l., Niederlassung Deutschland - Marcel-Breuer-Str. 12, D-80807 München, Deutschland Sitz der Zweigniederlassung München eingetragen im Handelsregister des Amtsgerichts München unter HRB 218574 USt-ID DE 814584193 Seite 1 von 1'"
      ]
     },
     "execution_count": 9,
     "metadata": {},
     "output_type": "execute_result"
    }
   ],
   "source": [
    "doc_text = docjson['text']\n",
    "doc_text"
   ]
  },
  {
   "cell_type": "code",
   "execution_count": 10,
   "id": "fdf701d1",
   "metadata": {},
   "outputs": [],
   "source": [
    "dataFrame_tokens = pd.DataFrame(docjson['tokens'])\n",
    "dataFrame_tokens['tokens'] = dataFrame_tokens[['start', 'end']].apply(lambda x: doc_text[x[0]:x[1]], axis= 1)"
   ]
  },
  {
   "cell_type": "code",
   "execution_count": 11,
   "id": "5af2ea65",
   "metadata": {},
   "outputs": [],
   "source": [
    "# dataFrame_tokens[:50]"
   ]
  },
  {
   "cell_type": "code",
   "execution_count": 12,
   "id": "77e84658",
   "metadata": {},
   "outputs": [
    {
     "data": {
      "text/plain": [
       "'amazon.de'"
      ]
     },
     "execution_count": 12,
     "metadata": {},
     "output_type": "execute_result"
    }
   ],
   "source": [
    "doc_text[0:9]"
   ]
  },
  {
   "cell_type": "code",
   "execution_count": 13,
   "id": "44198ee0",
   "metadata": {},
   "outputs": [],
   "source": [
    "right_table = pd.DataFrame(docjson['ents'])[['start', 'label']]\n",
    "dataFrame_tokens = pd.merge(dataFrame_tokens, right_table, how='left', on='start')"
   ]
  },
  {
   "cell_type": "code",
   "execution_count": 14,
   "id": "9df29487",
   "metadata": {},
   "outputs": [],
   "source": [
    "# dataFrame_tokens.head(10)"
   ]
  },
  {
   "cell_type": "code",
   "execution_count": 15,
   "id": "af64282e",
   "metadata": {},
   "outputs": [
    {
     "data": {
      "text/html": [
       "<div>\n",
       "<style scoped>\n",
       "    .dataframe tbody tr th:only-of-type {\n",
       "        vertical-align: middle;\n",
       "    }\n",
       "\n",
       "    .dataframe tbody tr th {\n",
       "        vertical-align: top;\n",
       "    }\n",
       "\n",
       "    .dataframe thead th {\n",
       "        text-align: right;\n",
       "    }\n",
       "</style>\n",
       "<table border=\"1\" class=\"dataframe\">\n",
       "  <thead>\n",
       "    <tr style=\"text-align: right;\">\n",
       "      <th></th>\n",
       "      <th>id</th>\n",
       "      <th>start</th>\n",
       "      <th>end</th>\n",
       "      <th>tokens</th>\n",
       "      <th>label</th>\n",
       "    </tr>\n",
       "  </thead>\n",
       "  <tbody>\n",
       "    <tr>\n",
       "      <th>0</th>\n",
       "      <td>0</td>\n",
       "      <td>0</td>\n",
       "      <td>9</td>\n",
       "      <td>amazon.de</td>\n",
       "      <td>B-ORG</td>\n",
       "    </tr>\n",
       "    <tr>\n",
       "      <th>1</th>\n",
       "      <td>1</td>\n",
       "      <td>10</td>\n",
       "      <td>18</td>\n",
       "      <td>Rechnung</td>\n",
       "      <td>O</td>\n",
       "    </tr>\n",
       "    <tr>\n",
       "      <th>2</th>\n",
       "      <td>2</td>\n",
       "      <td>19</td>\n",
       "      <td>41</td>\n",
       "      <td>Zahlungsreferenznummer</td>\n",
       "      <td>O</td>\n",
       "    </tr>\n",
       "    <tr>\n",
       "      <th>3</th>\n",
       "      <td>3</td>\n",
       "      <td>42</td>\n",
       "      <td>62</td>\n",
       "      <td>3NiPoAZm4SUm9qBoGKDi</td>\n",
       "      <td>O</td>\n",
       "    </tr>\n",
       "    <tr>\n",
       "      <th>4</th>\n",
       "      <td>4</td>\n",
       "      <td>63</td>\n",
       "      <td>71</td>\n",
       "      <td>Verkauft</td>\n",
       "      <td>O</td>\n",
       "    </tr>\n",
       "    <tr>\n",
       "      <th>5</th>\n",
       "      <td>5</td>\n",
       "      <td>72</td>\n",
       "      <td>75</td>\n",
       "      <td>von</td>\n",
       "      <td>O</td>\n",
       "    </tr>\n",
       "    <tr>\n",
       "      <th>6</th>\n",
       "      <td>6</td>\n",
       "      <td>76</td>\n",
       "      <td>82</td>\n",
       "      <td>Amazon</td>\n",
       "      <td>O</td>\n",
       "    </tr>\n",
       "    <tr>\n",
       "      <th>7</th>\n",
       "      <td>7</td>\n",
       "      <td>83</td>\n",
       "      <td>85</td>\n",
       "      <td>EU</td>\n",
       "      <td>O</td>\n",
       "    </tr>\n",
       "    <tr>\n",
       "      <th>8</th>\n",
       "      <td>8</td>\n",
       "      <td>86</td>\n",
       "      <td>92</td>\n",
       "      <td>S.är.l</td>\n",
       "      <td>O</td>\n",
       "    </tr>\n",
       "    <tr>\n",
       "      <th>9</th>\n",
       "      <td>9</td>\n",
       "      <td>92</td>\n",
       "      <td>93</td>\n",
       "      <td>.</td>\n",
       "      <td>O</td>\n",
       "    </tr>\n",
       "  </tbody>\n",
       "</table>\n",
       "</div>"
      ],
      "text/plain": [
       "   id  start  end                  tokens  label\n",
       "0   0      0    9               amazon.de  B-ORG\n",
       "1   1     10   18                Rechnung      O\n",
       "2   2     19   41  Zahlungsreferenznummer      O\n",
       "3   3     42   62    3NiPoAZm4SUm9qBoGKDi      O\n",
       "4   4     63   71                Verkauft      O\n",
       "5   5     72   75                     von      O\n",
       "6   6     76   82                  Amazon      O\n",
       "7   7     83   85                      EU      O\n",
       "8   8     86   92                  S.är.l      O\n",
       "9   9     92   93                       .      O"
      ]
     },
     "execution_count": 15,
     "metadata": {},
     "output_type": "execute_result"
    }
   ],
   "source": [
    "dataFrame_tokens.fillna('O', inplace=True)\n",
    "dataFrame_tokens.head(10)"
   ]
  },
  {
   "cell_type": "code",
   "execution_count": 16,
   "id": "6d2a533d",
   "metadata": {},
   "outputs": [
    {
     "name": "stderr",
     "output_type": "stream",
     "text": [
      "C:\\Users\\Admin\\AppData\\Local\\Temp/ipykernel_16420/2344595886.py:2: SettingWithCopyWarning: \n",
      "A value is trying to be set on a copy of a slice from a DataFrame.\n",
      "Try using .loc[row_indexer,col_indexer] = value instead\n",
      "\n",
      "See the caveats in the documentation: https://pandas.pydata.org/pandas-docs/stable/user_guide/indexing.html#returning-a-view-versus-a-copy\n",
      "  df_clean['end'] = df_clean['text'].apply(lambda x: len(x) + 1).cumsum() - 1\n",
      "C:\\Users\\Admin\\AppData\\Local\\Temp/ipykernel_16420/2344595886.py:3: SettingWithCopyWarning: \n",
      "A value is trying to be set on a copy of a slice from a DataFrame.\n",
      "Try using .loc[row_indexer,col_indexer] = value instead\n",
      "\n",
      "See the caveats in the documentation: https://pandas.pydata.org/pandas-docs/stable/user_guide/indexing.html#returning-a-view-versus-a-copy\n",
      "  df_clean['start'] = df_clean[['text', 'end']].apply(lambda x: x[1] - len(x[0]), axis=1)\n"
     ]
    }
   ],
   "source": [
    "# join label to df_clean dataFrame\n",
    "df_clean['end'] = df_clean['text'].apply(lambda x: len(x) + 1).cumsum() - 1\n",
    "df_clean['start'] = df_clean[['text', 'end']].apply(lambda x: x[1] - len(x[0]), axis=1)"
   ]
  },
  {
   "cell_type": "code",
   "execution_count": 17,
   "id": "d8eb5f96",
   "metadata": {},
   "outputs": [],
   "source": [
    "# df_clean[:50]"
   ]
  },
  {
   "cell_type": "code",
   "execution_count": 18,
   "id": "ca5329cf",
   "metadata": {},
   "outputs": [],
   "source": [
    "# inner join with start\n",
    "dataframe_info = pd.merge(df_clean, dataFrame_tokens[['start', 'tokens', 'label']], how='inner', on='start')"
   ]
  },
  {
   "cell_type": "code",
   "execution_count": 19,
   "id": "20632835",
   "metadata": {},
   "outputs": [],
   "source": [
    "# dataframe_info"
   ]
  },
  {
   "cell_type": "markdown",
   "id": "eb5e3445",
   "metadata": {},
   "source": [
    "# Bounding Box"
   ]
  },
  {
   "cell_type": "code",
   "execution_count": 20,
   "id": "6f22971e",
   "metadata": {},
   "outputs": [],
   "source": [
    "bb_df = dataframe_info.query(\"label != 'O' \")\n",
    "# bb_df"
   ]
  },
  {
   "cell_type": "code",
   "execution_count": 23,
   "id": "45d4593d",
   "metadata": {},
   "outputs": [],
   "source": [
    "img = image.copy()\n",
    "for x,y,w,h,label in bb_df[['left', 'top', 'width', 'height', 'label']].values:\n",
    "    x = int(x)\n",
    "    y = int(y)\n",
    "    w = int(w)\n",
    "    h = int(h)\n",
    "    \n",
    "    cv2.rectangle(img, (x,y), (x+w, y+h), (64, 255, 0), 2)\n",
    "#     cv2.putText(img, str(label), (x, y), cv2.FONT_HERSHEY_SIMPLEX, 5, (255, 0, 0), 6,cv2.LINE_AA, False)\n",
    "#     cv2.putText(img, str(label), (x+42, y+42), cv2.FONT_HERSHEY_PLAIN, 5, (255, 0, 0), 3)\n",
    "    cv2.putText(img, str(label), (x, y), cv2.FONT_HERSHEY_PLAIN, 5, (255, 0, 0), 3)\n",
    "\n",
    "cv2.namedWindow(\"Predictions\", cv2.WINDOW_NORMAL)\n",
    "imS = cv2.resize(img, (4136, 5848))    \n",
    "cv2.imshow('Predictions', imS)\n",
    "cv2.waitKey(0)\n",
    "cv2.destroyAllWindows()"
   ]
  },
  {
   "cell_type": "code",
   "execution_count": 24,
   "id": "9ca1aaee",
   "metadata": {},
   "outputs": [],
   "source": [
    "# bb_df['label'][1][2:]\n",
    "# bb_df.head(10)"
   ]
  },
  {
   "cell_type": "code",
   "execution_count": 25,
   "id": "c6527d40",
   "metadata": {},
   "outputs": [
    {
     "name": "stderr",
     "output_type": "stream",
     "text": [
      "C:\\Users\\Admin\\AppData\\Local\\Temp/ipykernel_16420/2923300729.py:1: SettingWithCopyWarning: \n",
      "A value is trying to be set on a copy of a slice from a DataFrame.\n",
      "Try using .loc[row_indexer,col_indexer] = value instead\n",
      "\n",
      "See the caveats in the documentation: https://pandas.pydata.org/pandas-docs/stable/user_guide/indexing.html#returning-a-view-versus-a-copy\n",
      "  bb_df['label'] = bb_df['label'].apply(lambda x: x[2:])\n"
     ]
    }
   ],
   "source": [
    "bb_df['label'] = bb_df['label'].apply(lambda x: x[2:])\n",
    "# bb_df.head(10)"
   ]
  },
  {
   "cell_type": "code",
   "execution_count": 26,
   "id": "4611d880",
   "metadata": {},
   "outputs": [],
   "source": [
    "# group the labels\n",
    "class groupgen():\n",
    "    def __init__(self):\n",
    "        self.id = 0\n",
    "        self. text = ''\n",
    "        \n",
    "    def get_group(self,text):\n",
    "        if self.text == text:\n",
    "            return self.id\n",
    "        else:\n",
    "            self.id +=1\n",
    "            self.text = text\n",
    "            return self.id\n",
    "        \n",
    "grp_gen = groupgen() "
   ]
  },
  {
   "cell_type": "code",
   "execution_count": null,
   "id": "577aa692",
   "metadata": {},
   "outputs": [],
   "source": []
  },
  {
   "cell_type": "code",
   "execution_count": 27,
   "id": "06839529",
   "metadata": {},
   "outputs": [
    {
     "name": "stderr",
     "output_type": "stream",
     "text": [
      "C:\\Users\\Admin\\AppData\\Local\\Temp/ipykernel_16420/2283708908.py:1: SettingWithCopyWarning: \n",
      "A value is trying to be set on a copy of a slice from a DataFrame.\n",
      "Try using .loc[row_indexer,col_indexer] = value instead\n",
      "\n",
      "See the caveats in the documentation: https://pandas.pydata.org/pandas-docs/stable/user_guide/indexing.html#returning-a-view-versus-a-copy\n",
      "  bb_df['group'] = bb_df['label'].apply(grp_gen.get_group)\n"
     ]
    }
   ],
   "source": [
    "bb_df['group'] = bb_df['label'].apply(grp_gen.get_group)\n",
    "# bb_df.head()"
   ]
  },
  {
   "cell_type": "code",
   "execution_count": 28,
   "id": "426caead",
   "metadata": {},
   "outputs": [
    {
     "name": "stderr",
     "output_type": "stream",
     "text": [
      "C:\\Users\\Admin\\Desktop\\InvoiceReader_Project\\InvoiceReader\\lib\\site-packages\\pandas\\core\\frame.py:3641: SettingWithCopyWarning: \n",
      "A value is trying to be set on a copy of a slice from a DataFrame.\n",
      "Try using .loc[row_indexer,col_indexer] = value instead\n",
      "\n",
      "See the caveats in the documentation: https://pandas.pydata.org/pandas-docs/stable/user_guide/indexing.html#returning-a-view-versus-a-copy\n",
      "  self[k1] = value[k2]\n",
      "C:\\Users\\Admin\\AppData\\Local\\Temp/ipykernel_16420/3100329007.py:3: SettingWithCopyWarning: \n",
      "A value is trying to be set on a copy of a slice from a DataFrame.\n",
      "Try using .loc[row_indexer,col_indexer] = value instead\n",
      "\n",
      "See the caveats in the documentation: https://pandas.pydata.org/pandas-docs/stable/user_guide/indexing.html#returning-a-view-versus-a-copy\n",
      "  bb_df['right'] = bb_df['left'] + bb_df['width']\n",
      "C:\\Users\\Admin\\AppData\\Local\\Temp/ipykernel_16420/3100329007.py:4: SettingWithCopyWarning: \n",
      "A value is trying to be set on a copy of a slice from a DataFrame.\n",
      "Try using .loc[row_indexer,col_indexer] = value instead\n",
      "\n",
      "See the caveats in the documentation: https://pandas.pydata.org/pandas-docs/stable/user_guide/indexing.html#returning-a-view-versus-a-copy\n",
      "  bb_df['bottom'] = bb_df['top'] + bb_df['height']\n"
     ]
    }
   ],
   "source": [
    "# right and bottom of bounding box\n",
    "bb_df[['left', 'top', 'width', 'height']] = bb_df[['left', 'top', 'width', 'height']].astype(int)\n",
    "bb_df['right'] = bb_df['left'] + bb_df['width']\n",
    "bb_df['bottom'] = bb_df['top'] + bb_df['height']"
   ]
  },
  {
   "cell_type": "code",
   "execution_count": 29,
   "id": "085339ff",
   "metadata": {},
   "outputs": [],
   "source": [
    "# Tagging: groupby group\n",
    "col_group = ['left', 'top', 'right', 'bottom', 'label', 'tokens', 'group']\n",
    "group_tag_img = bb_df[col_group].groupby(by='group')"
   ]
  },
  {
   "cell_type": "code",
   "execution_count": 30,
   "id": "9315644b",
   "metadata": {},
   "outputs": [
    {
     "name": "stdout",
     "output_type": "stream",
     "text": [
      "<pandas.core.groupby.generic.DataFrameGroupBy object at 0x0000024205E545E0>\n"
     ]
    }
   ],
   "source": [
    "print(group_tag_img)"
   ]
  },
  {
   "cell_type": "code",
   "execution_count": 31,
   "id": "348e2bc9",
   "metadata": {},
   "outputs": [],
   "source": [
    "img_tagging = group_tag_img.agg({\n",
    "   \n",
    "    'left':min,\n",
    "    'right':max,\n",
    "    'top':min,\n",
    "    'bottom':max,\n",
    "    'label':np.unique,\n",
    "    'tokens':lambda x: \" \".join(x)\n",
    "})"
   ]
  },
  {
   "cell_type": "code",
   "execution_count": 32,
   "id": "654d3e80",
   "metadata": {},
   "outputs": [
    {
     "data": {
      "text/html": [
       "<div>\n",
       "<style scoped>\n",
       "    .dataframe tbody tr th:only-of-type {\n",
       "        vertical-align: middle;\n",
       "    }\n",
       "\n",
       "    .dataframe tbody tr th {\n",
       "        vertical-align: top;\n",
       "    }\n",
       "\n",
       "    .dataframe thead th {\n",
       "        text-align: right;\n",
       "    }\n",
       "</style>\n",
       "<table border=\"1\" class=\"dataframe\">\n",
       "  <thead>\n",
       "    <tr style=\"text-align: right;\">\n",
       "      <th></th>\n",
       "      <th>left</th>\n",
       "      <th>right</th>\n",
       "      <th>top</th>\n",
       "      <th>bottom</th>\n",
       "      <th>label</th>\n",
       "      <th>tokens</th>\n",
       "    </tr>\n",
       "    <tr>\n",
       "      <th>group</th>\n",
       "      <th></th>\n",
       "      <th></th>\n",
       "      <th></th>\n",
       "      <th></th>\n",
       "      <th></th>\n",
       "      <th></th>\n",
       "    </tr>\n",
       "  </thead>\n",
       "  <tbody>\n",
       "    <tr>\n",
       "      <th>1</th>\n",
       "      <td>219</td>\n",
       "      <td>898</td>\n",
       "      <td>18</td>\n",
       "      <td>197</td>\n",
       "      <td>ORG</td>\n",
       "      <td>amazon.de</td>\n",
       "    </tr>\n",
       "    <tr>\n",
       "      <th>2</th>\n",
       "      <td>3116</td>\n",
       "      <td>3171</td>\n",
       "      <td>977</td>\n",
       "      <td>1016</td>\n",
       "      <td>DATUM</td>\n",
       "      <td>05</td>\n",
       "    </tr>\n",
       "    <tr>\n",
       "      <th>3</th>\n",
       "      <td>436</td>\n",
       "      <td>611</td>\n",
       "      <td>1045</td>\n",
       "      <td>1091</td>\n",
       "      <td>ADRESSE</td>\n",
       "      <td>AAMU</td>\n",
       "    </tr>\n",
       "    <tr>\n",
       "      <th>4</th>\n",
       "      <td>633</td>\n",
       "      <td>2841</td>\n",
       "      <td>1045</td>\n",
       "      <td>1124</td>\n",
       "      <td>NAME</td>\n",
       "      <td>ABEN Rechnungsnummer</td>\n",
       "    </tr>\n",
       "    <tr>\n",
       "      <th>5</th>\n",
       "      <td>3118</td>\n",
       "      <td>3503</td>\n",
       "      <td>1068</td>\n",
       "      <td>1124</td>\n",
       "      <td>RNUM</td>\n",
       "      <td>DE3MQ236AEUI</td>\n",
       "    </tr>\n",
       "    <tr>\n",
       "      <th>6</th>\n",
       "      <td>3116</td>\n",
       "      <td>3256</td>\n",
       "      <td>1180</td>\n",
       "      <td>1217</td>\n",
       "      <td>BETRAG</td>\n",
       "      <td>359</td>\n",
       "    </tr>\n",
       "    <tr>\n",
       "      <th>7</th>\n",
       "      <td>439</td>\n",
       "      <td>887</td>\n",
       "      <td>1231</td>\n",
       "      <td>1383</td>\n",
       "      <td>ADRESSE</td>\n",
       "      <td>71131 Germany</td>\n",
       "    </tr>\n",
       "    <tr>\n",
       "      <th>8</th>\n",
       "      <td>3676</td>\n",
       "      <td>3880</td>\n",
       "      <td>3659</td>\n",
       "      <td>3726</td>\n",
       "      <td>BETRAG</td>\n",
       "      <td>3,59</td>\n",
       "    </tr>\n",
       "  </tbody>\n",
       "</table>\n",
       "</div>"
      ],
      "text/plain": [
       "       left  right   top  bottom    label                tokens\n",
       "group                                                          \n",
       "1       219    898    18     197      ORG             amazon.de\n",
       "2      3116   3171   977    1016    DATUM                    05\n",
       "3       436    611  1045    1091  ADRESSE                  AAMU\n",
       "4       633   2841  1045    1124     NAME  ABEN Rechnungsnummer\n",
       "5      3118   3503  1068    1124     RNUM          DE3MQ236AEUI\n",
       "6      3116   3256  1180    1217   BETRAG                   359\n",
       "7       439    887  1231    1383  ADRESSE         71131 Germany\n",
       "8      3676   3880  3659    3726   BETRAG                  3,59"
      ]
     },
     "execution_count": 32,
     "metadata": {},
     "output_type": "execute_result"
    }
   ],
   "source": [
    "img_tagging"
   ]
  },
  {
   "cell_type": "code",
   "execution_count": 33,
   "id": "ebb06ad4",
   "metadata": {},
   "outputs": [],
   "source": [
    "img_bb = image.copy()\n",
    "for l,r,t,b,label,token in img_tagging.values:\n",
    "    cv2.rectangle(img_bb, (l,t), (r,b), (0,255,0), 2)\n",
    "    \n",
    "    cv2.putText(img_bb, label, (l-350,t+42), cv2.FONT_HERSHEY_PLAIN, 6, (255, 0, 0), 3)\n",
    "\n",
    "cv2.namedWindow(\"Bounding Box Invoice\", cv2.WINDOW_NORMAL)\n",
    "imS = cv2.resize(img_bb, (8136, 10848))    \n",
    "cv2.imshow('Bounding Box Invoice', imS)\n",
    "cv2.waitKey(0)\n",
    "cv2.destroyAllWindows()"
   ]
  },
  {
   "cell_type": "code",
   "execution_count": 34,
   "id": "f46f47a0",
   "metadata": {},
   "outputs": [],
   "source": [
    "def parser(text,label):\n",
    "    if label == 'BETRAG':\n",
    "#         text = text.lower()\n",
    "#         text = re.sub(r'\\D', '', text)\n",
    "        text = text\n",
    "    \n",
    "    elif label in ('RNUM'):\n",
    "        text = text\n",
    "        \n",
    "    elif label == 'DATUM':\n",
    "#         text = text.lower()\n",
    "#         allow_special_char = '-./'\n",
    "#         text = re.sub(r'[^A-Za-z0-9{} ]'.format(allow_special_char), '', text)\n",
    "        text = text\n",
    "            \n",
    "    elif label == 'ADRESSE':\n",
    "#         text = text.lower()\n",
    "        allow_special_char = '-.()ßÜüÖöÄä'\n",
    "        text = re.sub(r'[^A-Za-z0-9{} ]'.format(allow_special_char), '', text)\n",
    "    \n",
    "    elif label in ('NAME'):\n",
    "#         text = re.sub(r'[^A-Za-z ]', '', text)\n",
    "#         text = text.title()\n",
    "        text = text\n",
    "    \n",
    "    elif label == 'ORG':\n",
    "#         text = text.lower()\n",
    "        text = re.sub(r'[^A-Za-z0-9. ]', '', text)\n",
    "#         text = text.title()\n",
    "    \n",
    "    return text"
   ]
  },
  {
   "cell_type": "code",
   "execution_count": 35,
   "id": "6a2fe2bc",
   "metadata": {},
   "outputs": [],
   "source": [
    "# test the parser\n",
    "# parser('omid12)&#$@gmail.com', 'EMAIL')"
   ]
  },
  {
   "cell_type": "code",
   "execution_count": 36,
   "id": "6566add3",
   "metadata": {},
   "outputs": [],
   "source": [
    "info_array = dataframe_info[['tokens', 'label']].values\n",
    "entities = dict(NAME=[], ORG=[], DATUM=[], ADRESSE=[], BETRAG=[], RNUM=[])\n",
    "previous = 'O'\n",
    "\n",
    "for token, label in info_array:\n",
    "    bio_tag = label[0]\n",
    "    label_tag = label[2:]\n",
    "    \n",
    "    # step -1 parse the token\n",
    "    text = parser(token, label_tag)\n",
    "    \n",
    "    if bio_tag in ('B', 'I'):\n",
    "        \n",
    "        if previous != label_tag:\n",
    "            entities[label_tag].append(text)\n",
    "        \n",
    "        else:\n",
    "            if bio_tag == \"B\":\n",
    "                entities[label_tag].append(text)\n",
    "                \n",
    "            else:\n",
    "                if label_tag in (\"NAME\", 'ORG', 'DATUM', 'ADRESSE', 'BETRAG', 'RNUM'):\n",
    "                    entities[label_tag][-1] = entities[label_tag][-1] + \" \" + text\n",
    "                \n",
    "                else:\n",
    "                    entities[label_tag][-1] = entities[label_tag][-1] + text\n",
    "    \n",
    "    \n",
    "    previous = label_tag\n",
    "    "
   ]
  },
  {
   "cell_type": "code",
   "execution_count": 37,
   "id": "15d8c5eb",
   "metadata": {},
   "outputs": [
    {
     "name": "stdout",
     "output_type": "stream",
     "text": [
      "{'NAME': ['ABEN Rechnungsnummer'], 'ORG': ['amazon.de'], 'DATUM': ['05'], 'ADRESSE': ['AAMU', '71131 Germany'], 'BETRAG': ['359', '3,59'], 'RNUM': ['DE3MQ236AEUI']}\n"
     ]
    }
   ],
   "source": [
    "print(entities)"
   ]
  },
  {
   "cell_type": "code",
   "execution_count": null,
   "id": "61bf7f80",
   "metadata": {},
   "outputs": [],
   "source": []
  }
 ],
 "metadata": {
  "kernelspec": {
   "display_name": "Python 3 (ipykernel)",
   "language": "python",
   "name": "python3"
  },
  "language_info": {
   "codemirror_mode": {
    "name": "ipython",
    "version": 3
   },
   "file_extension": ".py",
   "mimetype": "text/x-python",
   "name": "python",
   "nbconvert_exporter": "python",
   "pygments_lexer": "ipython3",
   "version": "3.10.0"
  }
 },
 "nbformat": 4,
 "nbformat_minor": 5
}
