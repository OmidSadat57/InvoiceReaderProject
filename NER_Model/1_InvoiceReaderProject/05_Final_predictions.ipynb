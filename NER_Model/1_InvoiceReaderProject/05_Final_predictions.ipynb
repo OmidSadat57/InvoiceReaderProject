{
 "cells": [
  {
   "cell_type": "code",
   "execution_count": 1,
   "id": "058e37fd",
   "metadata": {},
   "outputs": [],
   "source": [
    "import cv2\n",
    "import predictions as pred"
   ]
  },
  {
   "cell_type": "code",
   "execution_count": 22,
   "id": "ba993d35",
   "metadata": {},
   "outputs": [],
   "source": [
    "# type the right path and file name to read the image and show\n",
    "img = cv2.imread('./allinvoices_img_2/078.jpg')\n",
    "\n",
    "cv2.namedWindow('original', cv2.WINDOW_NORMAL)\n",
    "cv2.imshow('original', img)\n",
    "cv2.waitKey(0)\n",
    "cv2.destroyAllWindows()"
   ]
  },
  {
   "cell_type": "code",
   "execution_count": 23,
   "id": "efab231f",
   "metadata": {},
   "outputs": [
    {
     "name": "stdout",
     "output_type": "stream",
     "text": [
      "{'NAME': ['HELEN DACHS'], 'ORG': ['kaspersky'], 'DATUM': [], 'ADRESSE': ['KGA Holunderbusch 8', '2021', 'Brühl ('], 'BETRAG': [], 'RNUM': ['FR-21']}\n"
     ]
    }
   ],
   "source": [
    "# by running this chunk you get a labeled invoice image with bounding boxes around entities\n",
    "# and you can see the output is/are the entities like ORG, NAME ...\n",
    "img_result, entities = pred.getPredictions(img)\n",
    "\n",
    "print(entities)\n",
    "cv2.namedWindow('predictions', cv2.WINDOW_NORMAL)\n",
    "cv2.imshow('predictions', img_result)\n",
    "cv2.waitKey(0)\n",
    "cv2.destroyAllWindows()"
   ]
  },
  {
   "cell_type": "code",
   "execution_count": null,
   "id": "6e4eecc8",
   "metadata": {},
   "outputs": [],
   "source": []
  },
  {
   "cell_type": "code",
   "execution_count": null,
   "id": "74a48dce",
   "metadata": {},
   "outputs": [],
   "source": []
  }
 ],
 "metadata": {
  "kernelspec": {
   "display_name": "Python 3 (ipykernel)",
   "language": "python",
   "name": "python3"
  },
  "language_info": {
   "codemirror_mode": {
    "name": "ipython",
    "version": 3
   },
   "file_extension": ".py",
   "mimetype": "text/x-python",
   "name": "python",
   "nbconvert_exporter": "python",
   "pygments_lexer": "ipython3",
   "version": "3.10.0"
  }
 },
 "nbformat": 4,
 "nbformat_minor": 5
}
